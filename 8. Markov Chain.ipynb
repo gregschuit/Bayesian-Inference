{
 "cells": [
  {
   "cell_type": "markdown",
   "metadata": {},
   "source": [
    "# Markov Chain\n",
    "\n",
    "Nombre: Gregory Schuit  \n",
    "Numero: 16636910"
   ]
  },
  {
   "cell_type": "code",
   "execution_count": 29,
   "metadata": {
    "collapsed": true
   },
   "outputs": [],
   "source": [
    "from random import choice"
   ]
  },
  {
   "cell_type": "code",
   "execution_count": 23,
   "metadata": {},
   "outputs": [
    {
     "name": "stdout",
     "output_type": "stream",
     "text": [
      "['en', 'el', 'papel', 'se', 'suponía', 'que', 'el', 'tenista', 'chileno', 'christian', 'garin', '(48°', 'del', 'mundo)', 'saltaría', 'a', 'la', 'cancha', 'principal', 'del', 'atp', '500', 'de', 'barcelona', 'a', 'eso', 'del', 'mediodía', 'para', 'enfrentar', 'al', 'canadiense', 'denis', 'shapovalov', '20', 'del', 'ranking', 'atp', 'sin', 'embargo', 'el', 'inicio', 'del', 'encuentro', 'por', 'la', 'segunda', 'ronda', 'del', 'certamen', 'hispano', 'se', 'verá', 'retrasado', 'por', 'el', 'extenso', 'partido', 'que', 'tuvo', 'que', 'afrontar', 'el', 'español', 'y', 'sembrado', 'número', 'uno', 'del', 'certamen', 'rafael', 'nadal', '(2°)', 'el', 'mallorquín', 'batalló', 'más', 'de', 'la', 'cuenta', 'para', 'dejar', 'en', 'el', 'camino', 'al', 'argentino', 'leonardo', 'mayer', '(63°)', 'quien', 'le', 'ganó', 'el', 'primer', 'set', 'por', '7-6', 'pero', 'después', 'rafa', 'se', 'recuperó', 'ganando', 'dos', 'mangas', 'por', '6-4', 'y', '6-2', '2', 'horas', 'y', '52', 'minutos', 'se', 'extendió', 'dicho', 'encuentro', 'en', 'el', 'que', 'nadal', 'terminó', 'imponiendo', 'la', 'localía', 'y', 'su', 'favoritismo', 'ahora', 'garin', 'deberá', 'aguardar', 'hasta', 'que', 'termine', 'el', 'choque', 'entre', 'fernando', 'verdasco', 'y', 'el', 'búlgaro', 'grigor', 'dimitrov', 'cruce', 'en', 'el', 'que', 'saldrá', 'el', 'próximo', 'rival', 'de', 'nicolás', 'jarry', 'universidad', 'católica', 'tiene', 'un', 'duelo', 'clave', 'por', 'copa', 'libertadores', 'este', 'miércoles', 'ante', 'rosario', 'central', 'sin', 'embargo', 'no', 'solo', 'se', 'puede', 'hablar', 'de', 'fútbol', 'en', 'la', 'previa', 'un', 'grupo', 'de', 'hinchas', 'cruzados', 'que', 'viajó', 'a', 'ver', 'el', 'partido', 'fue', 'detenido', 'en', 'san', 'luis', 'argentina', 'los', 'fanáticos', 'fueron', 'acusados', 'de', 'robar', 'fernet', 'cerveza', 'y', 'carne', 'de', 'un', 'supermercado', 'local', 'al', 'salir', 'del', 'recinto', 'comercial', 'se', 'encontraron', 'con', 'la', 'policía', 'trasandina', 'que', 'los', 'puso', 'de', 'rodillas', 'y', 'con', 'las', 'manos', 'en', 'la', 'nuca', 'junto', 'a', 'un', 'cerco', 'el', 'sitio', 'mendoza', 'post', 'reportó', 'que', 'en', 'el', 'procedimiento', 'fueron', 'detenidos', '28', 'barristas', 'adultos', 'y', 'un', 'menor', 'de', 'edad', 'santiago', 'más', 'de', 'tres', 'millones', 'de', 'dólares', 'gastó', 'chile', 'en', 'la', 'mantención', 'de', 'unasur', 'durante', 'los', 'ocho', 'años', 'en', 'los', 'que', 'formó', 'parte', 'del', 'bloque', 'el', 'cual', 'fue', 'creado', 'en', '2008', 'en', 'medio', 'de', 'la', 'convergencia', 'entre', 'los', 'gobiernos', 'de', 'esa', 'época', 'liderados', 'por', 'hugo', 'chávez', 'lula', 'da', 'silva', 'néstor', 'kirchner', 'y', 'michelle', 'bachelet', 'entre', 'otros', 'durante', 'todo', 'ese', 'periodo', 'nuestro', 'país', 'aportó', 'con', 'el', '7%', 'del', 'total', 'del', 'presupuesto', 'del', 'organismo', 'el', 'cual', 'alcanzaba', 'los', 'diez', 'millones', 'de', 'dólares', 'en', 'promedio', 'anualmente', 'dicho', 'monto', 'se', 'utilizaba', 'para', 'financiar', 'sus', 'distintos', 'programas', 'de', 'cooperación', 'en', 'américa', 'del', 'sur', 'y', 'los', 'gastos', 'administrativos', 'del', 'ente', 'cuya', 'sede', 'se', 'estableció', 'en', 'quito', 'ecuador', 'el', 'alto', 'costo', 'que', 'significaba', 'para', 'los', 'países', 'fue', 'una', 'de', 'las', 'razones', 'por', 'las', 'cuales', 'varios', 'de', 'ellos', 'decidieron', 'suspender', 'su', 'participación', 'en', 'el', 'grupo', 'en', 'abril', 'de', '2018', 'argentina', 'brasil', 'chile', 'colombia', 'paraguay', 'y', 'perú', 'tomaron', 'esa', 'determinación', 'debido', 'a', 'la', 'falta', 'de', 'resultados', 'concretos', 'que', 'garanticen', 'el', 'funcionamiento', 'adecuado', 'de', 'la', 'organización', 'después', 'de', 'ello', 'varios', 'naciones', 'anunciaron', 'su', 'salida', 'definitiva', 'el', 'primero', 'en', 'hacerlo', 'fue', 'colombia', 'en', 'agosto', 'de', '2018', 'le', 'siguió', 'ecuador', 'en', 'marzo', 'de', '2019', 'y', 'argentina', 'brasil', 'paraguay', 'y', 'chile', 'que', 'ratificó', 'el', 'domingo', 'pasado', 'su', 'determinación', 'de', 'acuerdo', 'a', 'información', 'del', 'ministerio', 'de', 'rr.ee', 'a', 'la', 'cual', 'accedió', 'emol', 'chile', 'comenzó', 'aportando', 'solo', '50', 'mil', 'dólares', 'en', '2011', 'y', '2012', 'monto', 'simbólico', 'acordado', 'por', 'el', 'resto', 'de', 'los', 'países', 'ante', 'la', 'catástrofe', 'que', 'provocó', 'en', 'nuestro', 'país', 'el', 'terremoto', 'del', '27-f', 'al', 'año', 'siguiente', 'en', '2013', 'pasó', 'a', 'aportar', 'us$873.883', 'el', '7%', 'de', 'los', 'us$9.968.335', 'del', 'total', 'del', 'presupuesto', 'en', '2014', 'año', 'en', 'que', 'asumió', 'el', 'gobierno', 'la', 'ex', 'presidenta', 'bachelet', 'se', 'mantuvo', 'el', 'porcentaje', 'pero', 'aumentó', 'el', 'gasto', 'total', 'del', 'organismo', 'por', 'ello', 'ese', 'año', 'aportó', 'con', '688.085', 'dólares', 'en', '2015', '2016', 'y', '2017', 'el', 'aporte', 'subió', 'a', '7,2%', 'del', 'total', 'quedando', 'en', 'us$780', 'mil', 'en', 'promedio', 'en', 'tanto', 'el', 'año', 'pasado', 'se', 'tenían', 'que', 'cancelar', 'us$716.399', 'pero', 'el', 'pago', 'no', 'se', 'realizó', 'tras', 'la', 'suspensión', 'de', 'la', 'membresía', 'santiago', 'tras', 'el', 'revuelo', 'que', 'causó', 'la', 'protesta', 'que', 'realizaron', 'estudiantes', 'de', 'la', 'facultad', 'de', 'arquitectura', 'y', 'urbanismo', '(fau)', 'de', 'la', 'universidad', 'de', 'chile', 'por', 'el', 'exceso', 'de', 'carga', 'académica', 'la', 'confederación', 'de', 'estudiantes', 'de', 'chile', '(confech)', 'emplazó', 'a', 'las', 'autoridades', 'de', 'educación', 'a', 'poner', 'atención', 'sobre', 'la', 'salud', 'mental', 'de', 'los', 'estudiantes', 'la', 'organización', 'dejó', 'una', 'carta', 'en', 'el', 'ministerio', 'de', 'educación', 'dirigida', 'a', 'la', 'ministra', 'marcela', 'cubillos', 'donde', 'reclaman', 'por', 'la', 'inexistencia', 'de', 'políticas', 'públicas', 'en', 'un', 'tema', 'que', 'consideran', 'es', 'urgente', 'aseguran', 'que', 'se', 'trata', 'de', 'un', 'problema', 'de', 'larga', 'data', 'y', 'que', 'ocurre', 'dentro', 'de', 'todas', 'las', 'casas', 'educacionales', 'tanto', 'públicas', 'o', 'privadas', 'en', 'el', 'documento', 'advierten', 'de', 'las', 'altas', 'tasas', 'de', 'suicidio', 'que', 'hay', 'en', 'el', 'país', 'en', 'especial', 'en', 'la', 'población', 'de', 'entre', '15', 'y', '29', 'años', 'la', 'mayor', 'tasa', 'de', 'suicidios', 'a', 'nivel', 'país', 'se', 'encuentra', 'en', 'las', 'edades', 'donde', 'las', 'personas', 'están', 'en', 'su', 'periodo', 'de', 'formación', 'educacional', 'por', 'lo', 'que', 'esta', 'temática', 'debe', 'ser', 'muy', 'relevante', 'para', 'el', 'ministerio', 'de', 'educación', 'señala', 'el', 'texto', 'sostiene', 'que', 'una', 'de', 'las', 'razones', 'para', 'ese', 'escenario', 'es', 'la', 'carga', 'académica', 'a', 'la', 'cual', 'están', 'sometidos', 'los', 'estudiantes', 'ya', 'que', 'si', 'se', 'realiza', 'un', 'análisis', 'detallado', 'entre', 'las', 'horas', 'de', 'cátedra', 'las', 'horas', 'dedicadas', 'al', 'estudio', 'y', 'sus', 'actividades', 'individuales', 'no', 'le', 'otorga', 'el', 'tiempo', 'mínimo', 'de', 'descanso', 'sumado', 'a', 'los', 'estudiantes', 'que', 'son', 'madres', 'padres', 'o', 'trabajan', 'lo', 'que', 'genera', 'un', 'desgaste', 'y', 'un', 'estrés', 'que', 'merma', 'la', 'estabilidad', 'y', 'el', 'rendimiento', 'los', 'estudiantes', 'de', 'chile', 'viven', 'una', 'situación', 'lamentable', 'y', 'dolorosa', '(...)', 'producto', 'del', 'estrés', 'constante', 'y', 'la', 'sobrecarga', 'académica', 'se', 'hace', 'difícil', 'poder', 'rendir', 'académicamente', 'sumado', 'a', 'que', 'la', 'mayoría', 'de', 'los', 'jóvenes', 'nos', 'encontramos', 'endeudados', 'para', 'poder', 'estudiar', 'y', 'tenemos', 'que', 'trabajar', 'para', 'poder', 'complementar', 'el', 'diferencial', 'entre', 'los', 'créditos', 'o', 'simplemente', 'el', 'día', 'a', 'día', 'sostuvo', 'la', 'vocera', 'de', 'la', 'confech', 'y', 'presidenta', 'de', 'la', 'feusach', 'constanza', 'urtubia', 'quien', 'acudió', 'hasta', 'el', 'ministerio', 'acusan', 'actitud', 'pasiva', 'del', 'ministerio', 'los', 'estudiantes', 'acusan', 'una', 'actitud', 'pasiva', 'del', 'ministerio', 'de', 'educación', 'frente', 'al', 'tema', 'vemos', 'con', 'preocupación', 'cómo', 'la', 'ministra', 'cubillos', 'ha', 'hecho', 'oídos', 'sordos', 'frente', 'a', 'esta', 'problemática', 'y', 'peor', 'aún', 'está', 'planteando', 'un', 'crédito', 'que', 'viene', 'a', 'endeudarnos', 'aún', 'más', 'y', 'le', 'cierra', 'la', 'puerta', 'a', 'la', 'gratuidad', 'universal', 'señaló', 'la', 'dirigente', 'agregando', 'que', 'queremos', 'una', 'respuesta', 'del', 'mineduc', 'queremos', 'saber', 'si', 'están', 'al', 'tanto', 'de', 'esta', 'problemática', 'y', 'si', 'lo', 'están', 'por', 'qué', 'no', 'se', 'ha', 'avanzado']\n"
     ]
    }
   ],
   "source": [
    "words = []\n",
    "\n",
    "with open('corpus.txt') as file:\n",
    "    line = file.readline()\n",
    "    while line:\n",
    "        for word in line.split():\n",
    "            words.append(word.strip('-,.\"–').lower())\n",
    "        line = file.readline()\n",
    "print(words)"
   ]
  },
  {
   "cell_type": "code",
   "execution_count": 25,
   "metadata": {},
   "outputs": [],
   "source": [
    "frecuencias = dict()\n",
    "for word in words:\n",
    "    if word in frecuencias:\n",
    "        frecuencias[word] += 1\n",
    "    else:\n",
    "        frecuencias[word] = 1"
   ]
  },
  {
   "cell_type": "code",
   "execution_count": 28,
   "metadata": {},
   "outputs": [],
   "source": [
    "next_words = dict()\n",
    "for i in range(len(words) - 1):\n",
    "    word = words[i]\n",
    "    next_word = words[i + 1]\n",
    "    if word in next_words:\n",
    "        next_words[word].append(next_word)\n",
    "    else:\n",
    "        next_words[word] = [next_word]"
   ]
  },
  {
   "cell_type": "code",
   "execution_count": 40,
   "metadata": {},
   "outputs": [
    {
     "name": "stdout",
     "output_type": "stream",
     "text": [
      "['diferencial', 'entre', 'otros', 'durante', 'todo', 'ese', 'periodo', 'de', 'educación', 'dirigida', 'a', 'ver', 'el', 'que', 'hay', 'en']\n",
      "['de', 'educación', 'frente', 'a', 'que', 'se', 'extendió', 'dicho', 'encuentro', 'en', 'us$780', 'mil', 'dólares', 'gastó', 'chile', 'viven']\n",
      "['están', 'por', 'el', 'partido', 'fue', 'una', 'de', 'rodillas', 'y', 'le', 'otorga', 'el', 'español', 'y', 'si', 'lo']\n",
      "['del', 'mundo)', 'saltaría', 'a', 'día', 'a', 'eso', 'del', 'ministerio', 'de', 'formación', 'educacional', 'por', 'hugo', 'chávez', 'lula']\n",
      "['esta', 'problemática', 'y', 'le', 'otorga', 'el', 'próximo', 'rival', 'de', 'la', 'nuca', 'junto', 'a', 'nivel', 'país', 'en']\n",
      "['en', 'que', 'genera', 'un', 'estrés', 'que', 'tuvo', 'que', 'ocurre', 'dentro', 'de', 'entre', 'otros', 'durante', 'todo', 'ese']\n",
      "['extendió', 'dicho', 'monto', 'simbólico', 'acordado', 'por', 'el', 'extenso', 'partido', 'fue', 'detenido', 'en', 'el', 'pago', 'no', 'se']\n",
      "['aporte', 'subió', 'a', 'nivel', 'país', 'en', 'especial', 'en', 'marzo', 'de', 'unasur', 'durante', 'los', 'ocho', 'años', 'en']\n",
      "['retrasado', 'por', '7-6', 'pero', 'el', 'pago', 'no', 'se', 'trata', 'de', 'suicidio', 'que', 'en', 'la', 'salud', 'mental']\n",
      "['entre', '15', 'y', 'tenemos', 'que', 'consideran', 'es', 'la', 'confech', 'y', 'urbanismo', '(fau)', 'de', 'ello', 'ese', 'año']\n",
      "['entre', '15', 'y', '6-2', '2', 'horas', 'dedicadas', 'al', 'tema', 'vemos', 'con', 'la', 'inexistencia', 'de', 'los', 'fanáticos']\n",
      "['ese', 'escenario', 'es', 'la', 'sobrecarga', 'académica', 'a', 'información', 'del', 'ente', 'cuya', 'sede', 'se', 'estableció', 'en', 'los']\n",
      "['cuales', 'varios', 'naciones', 'anunciaron', 'su', 'salida', 'definitiva', 'el', 'primer', 'set', 'por', 'hugo', 'chávez', 'lula', 'da', 'silva']\n",
      "['batalló', 'más', 'de', 'la', 'organización', 'después', 'de', 'suicidio', 'que', 'en', 'el', 'inicio', 'del', 'ministerio', 'de', 'ellos']\n",
      "['que', 'queremos', 'saber', 'si', 'están', 'en', 'la', 'puerta', 'a', 'día', 'a', 'ver', 'el', 'revuelo', 'que', 'se']\n",
      "['ministra', 'cubillos', 'donde', 'las', 'personas', 'están', 'en', 'el', 'ministerio', 'de', 'los', 'diez', 'millones', 'de', 'la', 'cancha']\n",
      "['sitio', 'mendoza', 'post', 'reportó', 'que', 'son', 'madres', 'padres', 'o', 'privadas', 'en', 'que', 'viajó', 'a', 'información', 'del']\n",
      "['revuelo', 'que', 'queremos', 'una', 'de', 'suicidio', 'que', 'causó', 'la', 'policía', 'trasandina', 'que', 'ratificó', 'el', 'aporte', 'subió']\n",
      "['estudio', 'y', 'urbanismo', '(fau)', 'de', 'la', 'puerta', 'a', 'que', 'asumió', 'el', 'texto', 'sostiene', 'que', 'realizaron', 'estudiantes']\n",
      "['lo', 'que', 'formó', 'parte', 'del', 'mineduc', 'queremos', 'saber', 'si', 'lo', 'que', 'saldrá', 'el', 'extenso', 'partido', 'fue']\n"
     ]
    }
   ],
   "source": [
    "largo = 15\n",
    "frases = 20\n",
    "\n",
    "for _ in range(frases):\n",
    "    palabra_inicial = choice(words)\n",
    "\n",
    "    texto_ficticio = [palabra_inicial]\n",
    "\n",
    "    for i in range(largo):\n",
    "        siguiente = choice(next_words[texto_ficticio[i]])\n",
    "        texto_ficticio.append(siguiente)\n",
    "\n",
    "    print(texto_ficticio)"
   ]
  },
  {
   "cell_type": "markdown",
   "metadata": {},
   "source": [
    "El gran supuesto de este algoritmo es que la palabra siguiente solo depende de la palabra que acabo de decir. Esto no es muy cierto en la realidad, ya que cuando uno dice frases, esta siendo consciente de todas las palabras que se dijeron antes en la frase. \n",
    "\n",
    "Una posible mejora podría ser predecir la palabra con una probabilidad ponderada de los estados anteriores, pesando a las palabras que se dijeron último, tal y como lo haria un algoritmo de forecast.\n",
    "\n",
    "Otra mejora que se le podría hacer el algoritmo, podría ser calcular la probabilidad de terminar la frase, es decir, la probabilidad de que venga un punto despues de la palabra. Esto mejoraría el algoritmo ya que las frases actualmente no terminan nunca."
   ]
  },
  {
   "cell_type": "code",
   "execution_count": null,
   "metadata": {
    "collapsed": true
   },
   "outputs": [],
   "source": []
  }
 ],
 "metadata": {
  "kernelspec": {
   "display_name": "Python 3",
   "language": "python",
   "name": "python3"
  },
  "language_info": {
   "codemirror_mode": {
    "name": "ipython",
    "version": 3
   },
   "file_extension": ".py",
   "mimetype": "text/x-python",
   "name": "python",
   "nbconvert_exporter": "python",
   "pygments_lexer": "ipython3",
   "version": "3.7.3"
  }
 },
 "nbformat": 4,
 "nbformat_minor": 2
}
